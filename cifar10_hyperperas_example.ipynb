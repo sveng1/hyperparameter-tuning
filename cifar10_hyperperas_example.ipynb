{
 "cells": [
  {
   "cell_type": "markdown",
   "metadata": {},
   "source": [
    "# Tuning CNN hyperparameters with hyperas\n",
    "This notebook is an example of using hyperas to optimize hyperparameters in a convolutional neural network trained on the mnist data set. <br>\n",
    "Hyperas: https://github.com/maxpumperla/hyperas"
   ]
  },
  {
   "cell_type": "markdown",
   "metadata": {},
   "source": [
    "#### Imports"
   ]
  },
  {
   "cell_type": "code",
   "execution_count": null,
   "metadata": {},
   "outputs": [],
   "source": [
    "from hyperopt import Trials, STATUS_OK, tpe\n",
    "from hyperas import optim\n",
    "from hyperas.distributions import choice, uniform\n",
    "import tensorflow\n",
    "from tensorflow.keras.datasets import cifar10\n",
    "from tensorflow.keras.models import Sequential\n",
    "from tensorflow.keras.layers import Dense, Conv2D, MaxPooling2D, Flatten, Activation, Dropout, BatchNormalization\n",
    "from tensorflow.keras.optimizers import SGD\n",
    "from keras.utils.np_utils import to_categorical"
   ]
  },
  {
   "cell_type": "markdown",
   "metadata": {},
   "source": [
    "### Data\n",
    "Define function for providing data"
   ]
  },
  {
   "cell_type": "code",
   "execution_count": null,
   "metadata": {},
   "outputs": [],
   "source": [
    "def data():\n",
    "    \"\"\"\n",
    "    Function that provides data. It will be called only once in the\n",
    "    optimization process.\n",
    "    \"\"\"\n",
    "\n",
    "    (X_train, y_train), (X_test, y_test) = cifar10.load_data()  \n",
    "\n",
    "    y_train = to_categorical(y_train)\n",
    "    y_test = to_categorical(y_test)\n",
    "\n",
    "    X_train = X_train.astype('float32')\n",
    "    X_test = X_test.astype('float32')\n",
    "\n",
    "    X_train /= 255\n",
    "    X_test /= 255\n",
    "    \n",
    "    return X_train, y_train, X_test, y_test"
   ]
  },
  {
   "cell_type": "markdown",
   "metadata": {},
   "source": [
    "### CNN model\n",
    "Define model for training CNN. Hyperas will try to minimize the loss"
   ]
  },
  {
   "cell_type": "code",
   "execution_count": null,
   "metadata": {},
   "outputs": [],
   "source": [
    "def cnn(X_train, y_train, X_test, y_test):\n",
    "    \"\"\"\n",
    "    Builds and trains CNN model\n",
    "    \"\"\"\n",
    "    # Define model\n",
    "    # Parameters to be tuned are number of filters in the two conv layers\n",
    "    # and the size of the dense layer\n",
    "    model = Sequential()\n",
    "    \n",
    "    model.add(Conv2D({{choice([32, 64])}}, (3,3), activation='relu', input_shape=(32,32,3)))\n",
    "    model.add(Conv2D({{choice([32, 64])}}, (3,3)))\n",
    "    model.add(BatchNormalization())\n",
    "    model.add(Activation('relu'))\n",
    "    model.add(MaxPooling2D(pool_size=(2,2)))\n",
    "    model.add(Dropout(0.25))\n",
    "    \n",
    "    model.add(Flatten())\n",
    "    model.add(Dense({{choice([128, 256, 512])}}))\n",
    "    model.add(BatchNormalization())\n",
    "    model.add(Activation('relu'))\n",
    "    model.add(Dropout(0.5))\n",
    "    model.add(Dense(10, activation='softmax'))\n",
    "    \n",
    "    # Compile model\n",
    "    # Parameter to be tuned is learning rate\n",
    "    sgd = SGD(lr={{choice([0.001, 0.01])}}, decay=1e-6, momentum=0.9, nesterov=True)\n",
    "    model.compile(optimizer=sgd, loss='categorical_crossentropy', metrics=['acc'])\n",
    "    \n",
    "    # Train model\n",
    "    # Parameter to be tuned is batch size\n",
    "    history = model.fit(X_train, y_train, epochs=15, batch_size={{choice([16, 32, 64])}},\n",
    "                        validation_split=0.2, verbose=0)\n",
    "    \n",
    "    train_accuracy = history.history['acc'][-1]\n",
    "    val_accuracy = history.history['val_acc'][-1]\n",
    "    \n",
    "    # negative validation accuracy is returned, this is the metric to be minimized\n",
    "    return {'loss' : -val_accuracy,\n",
    "            'results': {'Train accuracy': train_accuracy,\n",
    "                        'Validation accuracy': val_accuracy},\n",
    "            'status': STATUS_OK,\n",
    "            'model': model}"
   ]
  },
  {
   "cell_type": "markdown",
   "metadata": {},
   "source": [
    "best_run, best_model = optim.minimize(model=cnn,\n",
    "                                      data=data,\n",
    "                                      algo=tpe.suggest,\n",
    "                                      max_evals=10,\n",
    "                                      trials=Trials(),\n",
    "                                      notebook_name='cifar10_hyperperas_example',\n",
    "                                      verbose=False)"
   ]
  },
  {
   "cell_type": "markdown",
   "metadata": {},
   "source": [
    "### Result"
   ]
  },
  {
   "cell_type": "code",
   "execution_count": null,
   "metadata": {},
   "outputs": [],
   "source": [
    "# Check parameter indeces of best run\n",
    "best_run"
   ]
  },
  {
   "cell_type": "code",
   "execution_count": null,
   "metadata": {},
   "outputs": [],
   "source": [
    "# Evaluate best model on test images\n",
    "X_train, y_train, X_test, y_test = data()\n",
    "print(best_model.metrics_names)\n",
    "print(best_model.evaluate(X_test, y_test, verbose=0))"
   ]
  },
  {
   "cell_type": "markdown",
   "metadata": {},
   "source": [
    "### Notes\n",
    "- hyperperas is sensitive to comments and docstrings. A docstring with multiple lines in the model function throws a \"list index out of range\" error. \n",
    "- Only a few hyperparameters are tuned in this example. Others to be tuned are choice of optimizer, strides, dropout rate etc."
   ]
  },
  {
   "cell_type": "code",
   "execution_count": null,
   "metadata": {},
   "outputs": [],
   "source": []
  }
 ],
 "metadata": {
  "kernelspec": {
   "display_name": "Python 3",
   "language": "python",
   "name": "python3"
  },
  "language_info": {
   "codemirror_mode": {
    "name": "ipython",
    "version": 3
   },
   "file_extension": ".py",
   "mimetype": "text/x-python",
   "name": "python",
   "nbconvert_exporter": "python",
   "pygments_lexer": "ipython3",
   "version": "3.7.2"
  }
 },
 "nbformat": 4,
 "nbformat_minor": 2
}
